{
 "cells": [
  {
   "cell_type": "code",
   "execution_count": 3,
   "id": "desperate-laser",
   "metadata": {},
   "outputs": [],
   "source": [
    "import torch\n",
    "from torch.nn.utils.rnn import pack_padded_sequence"
   ]
  },
  {
   "cell_type": "code",
   "execution_count": 12,
   "id": "systematic-basement",
   "metadata": {},
   "outputs": [],
   "source": [
    "seq = torch.tensor([[4,5,6], [1,2,0], [0, 3,0]])\n",
    "lens = [3, 2, 2]\n",
    "packed = pack_padded_sequence(seq, lens, batch_first=True)"
   ]
  },
  {
   "cell_type": "code",
   "execution_count": 18,
   "id": "classified-affect",
   "metadata": {},
   "outputs": [
    {
     "data": {
      "text/plain": [
       "PackedSequence(data=tensor([4, 1, 0, 5, 2, 3, 6]), batch_sizes=tensor([3, 3, 1]), sorted_indices=None, unsorted_indices=None)"
      ]
     },
     "execution_count": 18,
     "metadata": {},
     "output_type": "execute_result"
    }
   ],
   "source": [
    "packed"
   ]
  },
  {
   "cell_type": "code",
   "execution_count": null,
   "id": "royal-services",
   "metadata": {},
   "outputs": [],
   "source": []
  }
 ],
 "metadata": {
  "kernelspec": {
   "display_name": "Python 3",
   "language": "python",
   "name": "python3"
  },
  "language_info": {
   "codemirror_mode": {
    "name": "ipython",
    "version": 3
   },
   "file_extension": ".py",
   "mimetype": "text/x-python",
   "name": "python",
   "nbconvert_exporter": "python",
   "pygments_lexer": "ipython3",
   "version": "3.8.5"
  }
 },
 "nbformat": 4,
 "nbformat_minor": 5
}
