{
 "cells": [
  {
   "cell_type": "code",
   "execution_count": null,
   "id": "declared-korean",
   "metadata": {},
   "outputs": [],
   "source": [
    "import pandas as pd\n",
    "import torch"
   ]
  },
  {
   "cell_type": "code",
   "execution_count": null,
   "id": "dietary-usage",
   "metadata": {},
   "outputs": [],
   "source": [
    "train = pd.read_pickle('/workdir/data/processed/train_labels_processed.pkl')\n",
    "# tokenizer = torch.load('/workdir/data/processed/tokenizer.pth')"
   ]
  },
  {
   "cell_type": "code",
   "execution_count": null,
   "id": "directed-uganda",
   "metadata": {},
   "outputs": [],
   "source": [
    "train"
   ]
  }
 ],
 "metadata": {
  "kernelspec": {
   "display_name": "Python 3",
   "language": "python",
   "name": "python3"
  },
  "language_info": {
   "codemirror_mode": {
    "name": "ipython",
    "version": 3
   },
   "file_extension": ".py",
   "mimetype": "text/x-python",
   "name": "python",
   "nbconvert_exporter": "python",
   "pygments_lexer": "ipython3",
   "version": "3.8.5"
  }
 },
 "nbformat": 4,
 "nbformat_minor": 5
}
