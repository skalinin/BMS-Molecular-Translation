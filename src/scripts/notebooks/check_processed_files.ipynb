{
 "cells": [
  {
   "cell_type": "code",
   "execution_count": null,
   "id": "declared-korean",
   "metadata": {},
   "outputs": [],
   "source": [
    "import pandas as pd\n",
    "import torch"
   ]
  },
  {
   "cell_type": "code",
   "execution_count": null,
   "id": "dietary-usage",
   "metadata": {},
   "outputs": [],
   "source": [
    "train_1 = pd.read_pickle('/workdir/data/processed/train_labels_processed.pkl')\n",
    "train_2 = pd.read_csv('/workdir/data/processed/train_labels_processed.csv')\n",
    "tokenizer = torch.load('/workdir/data/processed/tokenizer.pth')"
   ]
  },
  {
   "cell_type": "code",
   "execution_count": null,
   "id": "parallel-capitol",
   "metadata": {},
   "outputs": [],
   "source": [
    "train_1"
   ]
  },
  {
   "cell_type": "code",
   "execution_count": null,
   "id": "existing-africa",
   "metadata": {},
   "outputs": [],
   "source": [
    "train_2"
   ]
  },
  {
   "cell_type": "code",
   "execution_count": null,
   "id": "natural-appraisal",
   "metadata": {},
   "outputs": [],
   "source": [
    "tokenizer.token_to_idx"
   ]
  }
 ],
 "metadata": {
  "kernelspec": {
   "display_name": "Python 3",
   "language": "python",
   "name": "python3"
  },
  "language_info": {
   "codemirror_mode": {
    "name": "ipython",
    "version": 3
   },
   "file_extension": ".py",
   "mimetype": "text/x-python",
   "name": "python",
   "nbconvert_exporter": "python",
   "pygments_lexer": "ipython3",
   "version": "3.8.5"
  }
 },
 "nbformat": 4,
 "nbformat_minor": 5
}
