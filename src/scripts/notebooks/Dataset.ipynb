{
 "cells": [
  {
   "cell_type": "code",
   "execution_count": 1,
   "id": "adverse-matrix",
   "metadata": {},
   "outputs": [],
   "source": [
    "from tqdm import tqdm\n",
    "import numpy as np\n",
    "from matplotlib import pyplot as plt\n",
    "from torch.utils.data import Dataset, DataLoader\n",
    "import torch\n",
    "import pandas as pd\n",
    "\n",
    "from bms.dataset import BMSDataset, collate_fn\n",
    "from bms.transforms import get_transforms"
   ]
  },
  {
   "cell_type": "code",
   "execution_count": 2,
   "id": "accredited-period",
   "metadata": {},
   "outputs": [],
   "source": [
    "data_csv = pd.read_pickle('/workdir/data/processed/train_labels_processed.pkl')\n",
    "data_csv_len = data_csv.shape[0] - 1                                        \n",
    "train_data_size = int(0.8*data_csv_len)\n",
    "data_csv_train = data_csv.iloc[:train_data_size,:]                          \n",
    "data_csv_val = data_csv.iloc[train_data_size:,:]                            \n",
    "\n",
    "train_transform = get_transforms((224, 224))                                \n",
    "val_transform = get_transforms((224, 224))                                  \n",
    "train_dataset = BMSDataset(                                                 \n",
    "    data_csv=data_csv_train,                                                \n",
    "    restrict_dataset_len=50,\n",
    "    transform=train_transform                                               \n",
    ")                                                                           \n",
    "train_loader = torch.utils.data.DataLoader(                                 \n",
    "    dataset=train_dataset,                                                  \n",
    "    batch_size=20,                                             \n",
    "    num_workers=0,\n",
    "    collate_fn=collate_fn\n",
    ")                                                                           \n",
    "val_dataset = BMSDataset(                                                   \n",
    "    data_csv=data_csv_val,                                                  \n",
    "    transform=val_transform                                                 \n",
    ")                                                                           \n",
    "val_loader = torch.utils.data.DataLoader(                                   \n",
    "    dataset=val_dataset,                                                    \n",
    "    batch_size=20,                                             \n",
    "    num_workers=0,\n",
    "    collate_fn=collate_fn\n",
    ")                  "
   ]
  },
  {
   "cell_type": "code",
   "execution_count": 32,
   "id": "silent-abuse",
   "metadata": {},
   "outputs": [
    {
     "name": "stdout",
     "output_type": "stream",
     "text": [
      "1939347 1390390\n"
     ]
    },
    {
     "data": {
      "image/png": "[encoded data removed]",
      "text/plain": [
       "<Figure size 432x288 with 1 Axes>"
      ]
     },
     "metadata": {
      "needs_background": "light"
     },
     "output_type": "display_data"
    }
   ],
   "source": [
    "plt.imshow(train_dataset[1][0].permute(1,2,0))\n",
    "# plt.imshow(train_dataset[150][0])\n",
    "plt.show()"
   ]
  },
  {
   "cell_type": "code",
   "execution_count": null,
   "id": "fabulous-antibody",
   "metadata": {},
   "outputs": [],
   "source": [
    "for i in val_loader:\n",
    "    print(i[3])\n",
    "    break"
   ]
  }
 ],
 "metadata": {
  "kernelspec": {
   "display_name": "Python 3",
   "language": "python",
   "name": "python3"
  },
  "language_info": {
   "codemirror_mode": {
    "name": "ipython",
    "version": 3
   },
   "file_extension": ".py",
   "mimetype": "text/x-python",
   "name": "python",
   "nbconvert_exporter": "python",
   "pygments_lexer": "ipython3",
   "version": "3.8.5"
  }
 },
 "nbformat": 4,
 "nbformat_minor": 5
}
