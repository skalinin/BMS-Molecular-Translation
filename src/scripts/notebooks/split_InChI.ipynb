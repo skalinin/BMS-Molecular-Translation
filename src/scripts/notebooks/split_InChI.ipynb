{
 "cells": [
  {
   "cell_type": "code",
   "execution_count": null,
   "id": "indirect-yesterday",
   "metadata": {},
   "outputs": [],
   "source": [
    "import pandas as pd\n",
    "import re\n",
    "import numpy as np\n",
    "from matplotlib import pyplot as plt\n",
    "from tqdm import tqdm\n",
    "import cv2\n",
    "\n",
    "from bms.utils import get_file_path\n",
    "from bms.tokenizer import split_InChI_to_tokens\n",
    "\n",
    "tqdm.pandas()"
   ]
  },
  {
   "cell_type": "code",
   "execution_count": null,
   "id": "asian-partition",
   "metadata": {},
   "outputs": [],
   "source": [
    "train_csv = pd.read_csv('/workdir/data/bms-molecular-translation/train_labels.csv')"
   ]
  },
  {
   "cell_type": "code",
   "execution_count": null,
   "id": "separated-difference",
   "metadata": {},
   "outputs": [],
   "source": [
    "train_csv['image_path'] = train_csv['image_id'].apply(get_file_path, main_folder='train')\n",
    "print(f'train_csv.shape: {train_csv.shape}')"
   ]
  },
  {
   "cell_type": "code",
   "execution_count": null,
   "id": "divine-wilson",
   "metadata": {},
   "outputs": [],
   "source": [
    "train_csv"
   ]
  },
  {
   "cell_type": "code",
   "execution_count": null,
   "id": "celtic-curtis",
   "metadata": {
    "scrolled": true
   },
   "outputs": [],
   "source": [
    "plt.figure(figsize=(40, 40))\n",
    "for i in range(15):\n",
    "    image = cv2.imread(train_csv.loc[i, 'image_path'])\n",
    "    plt.subplot(5, 3, i+1)\n",
    "    plt.imshow(image)\n",
    "plt.show()"
   ]
  },
  {
   "cell_type": "code",
   "execution_count": null,
   "id": "brutal-gamma",
   "metadata": {
    "scrolled": true
   },
   "outputs": [],
   "source": [
    "def split_form(form):\n",
    "    string = ''\n",
    "    for i in re.findall(r\"[A-Z][^A-Z]*\", form):\n",
    "        elem = re.match(r\"\\D+\", i).group()\n",
    "        num = i.replace(elem, \"\")\n",
    "        if num == \"\":\n",
    "            string += f\"{elem} \"\n",
    "        else:\n",
    "            string += f\"{elem} {str(num)} \"\n",
    "    return string.rstrip(' ')\n",
    "\n",
    "\n",
    "def split_form2(form):\n",
    "    string = ''\n",
    "    for i in re.findall(r\"[a-z][^a-z]*\", form):\n",
    "        elem = i[0]\n",
    "        num = i.replace(elem, \"\").replace('/', \"\")\n",
    "        num_string = ''\n",
    "        for j in re.findall(r\"[0-9]+[^0-9]*\", num):\n",
    "            num_list = list(re.findall(r'\\d+', j))\n",
    "            assert len(num_list) == 1, f\"len({num_list}) != 1\"\n",
    "            _num = num_list[0]\n",
    "            if j == _num:\n",
    "                num_string += f\"{_num} \"\n",
    "            else:\n",
    "                extra = j.replace(_num, \"\")\n",
    "                num_string += f\"{_num} {' '.join(list(extra))} \"\n",
    "        string += f\"/{elem} {num_string}\"\n",
    "    return string.rstrip(' ')"
   ]
  },
  {
   "cell_type": "code",
   "execution_count": null,
   "id": "empty-finger",
   "metadata": {},
   "outputs": [],
   "source": [
    "train_csv['InChI_1'] = train_csv['InChI'].progress_apply(lambda x: x.split('/')[1])\n",
    "train_csv['InChI_text'] = train_csv['InChI_1'].progress_apply(split_form) + ' ' + \\\n",
    "    train_csv['InChI'].progress_apply(lambda x: '/'.join(x.split('/')[2:])).progress_apply(split_form2).values"
   ]
  },
  {
   "cell_type": "code",
   "execution_count": null,
   "id": "chinese-surge",
   "metadata": {},
   "outputs": [],
   "source": [
    "train_csv['InChI_tokens'] = train_csv['InChI'].progress_apply(split_InChI_to_tokens)"
   ]
  },
  {
   "cell_type": "code",
   "execution_count": null,
   "id": "realistic-obligation",
   "metadata": {},
   "outputs": [],
   "source": [
    "train_csv['InChI_text'].equals(train_csv['InChI_tokens'])"
   ]
  },
  {
   "cell_type": "code",
   "execution_count": null,
   "id": "convinced-accident",
   "metadata": {},
   "outputs": [],
   "source": [
    "train_csv['compare'] = np.where(train_csv[\"InChI_text\"] == train_csv[\"InChI_tokens\"], True, False)"
   ]
  },
  {
   "cell_type": "code",
   "execution_count": null,
   "id": "polyphonic-stereo",
   "metadata": {},
   "outputs": [],
   "source": [
    "train_csv.loc[train_csv['compare'] == False]"
   ]
  },
  {
   "cell_type": "code",
   "execution_count": null,
   "id": "academic-nursing",
   "metadata": {},
   "outputs": [],
   "source": [
    "print(train_csv.loc[2414260, \"InChI\"])\n",
    "\n",
    "print(train_csv.loc[2414260, \"InChI_text\"])\n",
    "\n",
    "print(train_csv.loc[2414260, \"InChI_tokens\"])"
   ]
  }
 ],
 "metadata": {
  "kernelspec": {
   "display_name": "Python 3",
   "language": "python",
   "name": "python3"
  },
  "language_info": {
   "codemirror_mode": {
    "name": "ipython",
    "version": 3
   },
   "file_extension": ".py",
   "mimetype": "text/x-python",
   "name": "python",
   "nbconvert_exporter": "python",
   "pygments_lexer": "ipython3",
   "version": "3.8.5"
  }
 },
 "nbformat": 4,
 "nbformat_minor": 5
}
